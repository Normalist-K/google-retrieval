{
 "cells": [
  {
   "cell_type": "code",
   "execution_count": 1,
   "source": [
    "import os\n",
    "from glob import glob\n",
    "\n",
    "def get_file_names(path):\n",
    "    file_names = glob(os.path.join(path, *['*'] * 3, '*.jpg'))\n",
    "    return file_names\n",
    "\n",
    "def convert_to_image_ids(fnames):\n",
    "    image_ids = []\n",
    "    for fname in fnames:\n",
    "        image_id = os.path.splitext(os.path.basename(fname))[0]\n",
    "        image_ids.append(image_id)\n",
    "    return image_ids\n",
    "\n",
    "def get_image_ids(path):\n",
    "    file_names = get_file_names(path)\n",
    "    image_ids = convert_to_image_ids(file_names)\n",
    "    return image_ids    "
   ],
   "outputs": [],
   "metadata": {}
  },
  {
   "cell_type": "code",
   "execution_count": 2,
   "source": [
    "import csv\n",
    "import numpy as np\n",
    "from dataclasses import dataclass\n",
    "from typing import List\n",
    "\n",
    "@dataclass\n",
    "class RetrievalResult:\n",
    "    test_id: str\n",
    "    chosen_ids: List[str]\n",
    "\n",
    "\n",
    "def generate_random_results(test_ids, index_ids):\n",
    "    for test_id in test_ids:\n",
    "        chosen_ids = np.random.choice(index_ids, 100, replace=False)\n",
    "        yield RetrievalResult(\n",
    "            test_id = test_id,\n",
    "            chosen_ids = chosen_ids\n",
    "        )\n",
    "\n",
    "def write_submission(output_fname, results: List[RetrievalResult]):\n",
    "    with open(output_fname, 'w') as f:\n",
    "        writer = csv.DictWriter(f, fieldnames=('id', 'images'))\n",
    "        writer.writeheader()\n",
    "        for result in results:\n",
    "            writer.writerow(\n",
    "                {\n",
    "                    'id': result.test_id,\n",
    "                    'images':' '.join(result.chosen_ids)\n",
    "                }\n",
    "            )\n"
   ],
   "outputs": [],
   "metadata": {}
  },
  {
   "cell_type": "code",
   "execution_count": 18,
   "source": [
    "from pathlib import Path\n",
    "\n",
    "data_path = Path('/shared/lorenzo/data-gld')\n",
    "index_path = data_path/'index'\n",
    "test_path = data_path/'test'\n",
    "\n",
    "index_files = get_file_names(index_path)\n",
    "test_files = get_file_names(test_path)\n",
    "\n",
    "index_ids = get_image_ids(index_path)\n",
    "test_ids = get_image_ids(test_path)"
   ],
   "outputs": [],
   "metadata": {}
  },
  {
   "cell_type": "code",
   "execution_count": 6,
   "source": [
    "len(index_ids), len(test_ids)"
   ],
   "outputs": [
    {
     "output_type": "execute_result",
     "data": {
      "text/plain": [
       "(76176, 1129)"
      ]
     },
     "metadata": {},
     "execution_count": 6
    }
   ],
   "metadata": {}
  },
  {
   "cell_type": "code",
   "execution_count": 15,
   "source": [
    "import shutil\n",
    "import torch\n",
    "from PIL import Image, ImageDraw"
   ],
   "outputs": [],
   "metadata": {}
  },
  {
   "cell_type": "code",
   "execution_count": 21,
   "source": [
    "query_img_name = test_files[0]"
   ],
   "outputs": [],
   "metadata": {}
  },
  {
   "cell_type": "code",
   "execution_count": null,
   "source": [
    "from model.cgd import CGD\n",
    "model = CGD(config.backbone_name, config.gd_config, config.feature_dim, config.num_classes)"
   ],
   "outputs": [],
   "metadata": {}
  },
  {
   "cell_type": "code",
   "execution_count": null,
   "source": [],
   "outputs": [],
   "metadata": {}
  }
 ],
 "metadata": {
  "orig_nbformat": 4,
  "language_info": {
   "name": "python",
   "version": "3.8.10",
   "mimetype": "text/x-python",
   "codemirror_mode": {
    "name": "ipython",
    "version": 3
   },
   "pygments_lexer": "ipython3",
   "nbconvert_exporter": "python",
   "file_extension": ".py"
  },
  "kernelspec": {
   "name": "python3",
   "display_name": "Python 3.8.10 64-bit ('yolo': conda)"
  },
  "interpreter": {
   "hash": "6228969df865c156c91fadb0937dc84af44d05a1f322ea4a1dd8ec555f33a733"
  }
 },
 "nbformat": 4,
 "nbformat_minor": 2
}