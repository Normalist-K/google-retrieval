{
 "cells": [
  {
   "cell_type": "code",
   "execution_count": 10,
   "source": [
    "!python ex_hydra.py"
   ],
   "outputs": [
    {
     "output_type": "stream",
     "name": "stdout",
     "text": [
      "model_name: cgd\n",
      "backbone_name: resnet50\n",
      "gd_config: SG\n",
      "feature_dim: 1536\n",
      "smoothing: 0.1\n",
      "temperature: 0.5\n",
      "margin: 0.1\n",
      "seed: 42\n",
      "num_workers: 8\n",
      "wandb_logger: true\n",
      "project: GLD2021\n",
      "lr_finder: false\n",
      "checkpoint_dir: /root/kaggle/google-retrieval/pl_output\n",
      "gpus: 1\n",
      "precision: 16\n",
      "data_root: /shared/lorenzo/data-gld\n",
      "split_df_root: /root/kaggle/google-retrieval/split\n",
      "img_size: 512\n",
      "num_classes: 81313\n",
      "aug: true\n",
      "fold_no: 0\n",
      "max_epochs: 25\n",
      "batch_size: 32\n",
      "lr: 0.001\n",
      "lr_scheduler: false\n",
      "optimizer: adamw\n",
      "es_patience: null\n",
      "\n"
     ]
    }
   ],
   "metadata": {}
  },
  {
   "cell_type": "code",
   "execution_count": null,
   "source": [],
   "outputs": [],
   "metadata": {}
  },
  {
   "cell_type": "code",
   "execution_count": null,
   "source": [],
   "outputs": [],
   "metadata": {}
  }
 ],
 "metadata": {
  "orig_nbformat": 4,
  "language_info": {
   "name": "python",
   "version": "3.8.10",
   "mimetype": "text/x-python",
   "codemirror_mode": {
    "name": "ipython",
    "version": 3
   },
   "pygments_lexer": "ipython3",
   "nbconvert_exporter": "python",
   "file_extension": ".py"
  },
  "kernelspec": {
   "name": "python3",
   "display_name": "Python 3.8.10 64-bit ('yolo': conda)"
  },
  "interpreter": {
   "hash": "6228969df865c156c91fadb0937dc84af44d05a1f322ea4a1dd8ec555f33a733"
  }
 },
 "nbformat": 4,
 "nbformat_minor": 2
}