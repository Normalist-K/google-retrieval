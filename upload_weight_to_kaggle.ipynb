{
 "cells": [
  {
   "cell_type": "code",
   "execution_count": 1,
   "source": [
    "import os, shutil\n",
    "import json\n",
    "from pathlib import Path\n",
    "\n",
    "home_path = Path('/root/kaggle/google-retrieval')\n",
    "directory = home_path/'weight'"
   ],
   "outputs": [],
   "metadata": {}
  },
  {
   "cell_type": "code",
   "execution_count": 2,
   "source": [
    "NAME = 'CGD-weight'\n",
    "\n",
    "# do not include underscores in .json file's id field!\n",
    "dataset_json = {\n",
    "  \"title\": f\"{NAME}\", \n",
    "  \"id\": f\"normalkim0/{NAME}\", \n",
    "  \"licenses\": [{\"name\": \"CC0-1.0\"}]\n",
    "}\n",
    "\n",
    "with open(f'{directory}/dataset-metadata.json', 'w') as f:\n",
    "    json.dump(dataset_json, f, ensure_ascii=False, indent='\\t')"
   ],
   "outputs": [],
   "metadata": {}
  },
  {
   "cell_type": "code",
   "execution_count": 3,
   "source": [
    "!kaggle datasets create -p {directory}"
   ],
   "outputs": [
    {
     "output_type": "stream",
     "name": "stdout",
     "text": [
      "Starting upload for file resnet50-epoch=23-fold0-val_loss=3.8455.ckpt\n",
      "100%|████████████████████████████████████████| 738M/738M [03:05<00:00, 4.17MB/s]\n",
      "Upload successful: resnet50-epoch=23-fold0-val_loss=3.8455.ckpt (738MB)\n",
      "Your private Dataset is being created. Please check progress at /api/v1/datasets/status//normalkim0/CGD-weight\n"
     ]
    }
   ],
   "metadata": {}
  },
  {
   "cell_type": "code",
   "execution_count": null,
   "source": [],
   "outputs": [],
   "metadata": {}
  }
 ],
 "metadata": {
  "orig_nbformat": 4,
  "language_info": {
   "name": "python",
   "version": "3.8.10",
   "mimetype": "text/x-python",
   "codemirror_mode": {
    "name": "ipython",
    "version": 3
   },
   "pygments_lexer": "ipython3",
   "nbconvert_exporter": "python",
   "file_extension": ".py"
  },
  "kernelspec": {
   "name": "python3",
   "display_name": "Python 3.8.10 64-bit ('yolo': conda)"
  },
  "interpreter": {
   "hash": "6228969df865c156c91fadb0937dc84af44d05a1f322ea4a1dd8ec555f33a733"
  }
 },
 "nbformat": 4,
 "nbformat_minor": 2
}